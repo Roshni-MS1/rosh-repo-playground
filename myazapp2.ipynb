{
 "cells": [
  {
   "cell_type": "code",
   "execution_count": 5,
   "metadata": {},
   "outputs": [],
   "source": [
    "import os\n",
    "import sys\n",
    "import openai\n",
    "import json\n",
    "import requests\n",
    "import time\n",
    "from purreaddocs import *\n"
   ]
  },
  {
   "cell_type": "code",
   "execution_count": 7,
   "metadata": {},
   "outputs": [
    {
     "name": "stdout",
     "output_type": "stream",
     "text": [
      "c8d8709f79da4c848586bedae594f86e\n"
     ]
    }
   ],
   "source": [
    "# Load config values\n",
    "\n",
    "with open(r'C:\\\\Users\\\\roshnipatil\\\\OneDrive - Microsoft\\\\GitHub_new\\\\config.json') as config_file:\n",
    "        config_details = json.load(config_file)\n",
    "#config_details = readAzAiConfig()\n",
    "#print(config_details) \n",
    "\n",
    "# Setting up the deployment name\n",
    "deployment_name = config_details['COMPLETIONS_MODEL']\n",
    "\n",
    "# The base URL for your Azure OpenAI resource. e.g. \"https://<your resource name>.openai.azure.com\"\n",
    "openai_api_base = config_details['OPENAI_API_BASE']\n",
    "\n",
    "# The API key for your Azure OpenAI resource.\n",
    "azure_openai_api_key = config_details['OPENAI_API_KEY']\n",
    "print(azure_openai_api_key)\n",
    "\n",
    "# Currently OPENAI API have the following versions available: 2022-12-01. All versions follow the YYYY-MM-DD date structure.\n",
    "openai_api_version = config_details['OPENAI_API_VERSION']"
   ]
  },
  {
   "cell_type": "code",
   "execution_count": 8,
   "metadata": {},
   "outputs": [
    {
     "name": "stdout",
     "output_type": "stream",
     "text": [
      "\n",
      "\n",
      "Q: What did the fish say when it hit the wall?\n",
      "A: Dam!\n",
      "\n",
      "\n",
      "Q: What did the fish say when it hit the wall?\n",
      "A: Dam!\n"
     ]
    }
   ],
   "source": [
    "openai.api_type = \"azure\"\n",
    "openai.api_base = \"https://rosh-azai.openai.azure.com/\"\n",
    "openai.api_version = \"2022-12-01\"\n",
    "openai.api_key = azure_openai_api_key\n",
    "\n",
    "\n",
    "#readpineconekey\n",
    "def openai_completion( prompt_input):\n",
    "    while True:\n",
    "        try:\n",
    "            #Azure OpenAI model call \n",
    "            response = openai.Completion.create(\n",
    "                engine=\"my-davinci-3\",\n",
    "                prompt=prompt_input,\n",
    "                temperature=1,\n",
    "                max_tokens=100,\n",
    "                top_p=0.5,\n",
    "                frequency_penalty=0,\n",
    "                presence_penalty=0,\n",
    "                best_of=1,\n",
    "                stop=None)\n",
    "        except openai.error.RateLimitError:\n",
    "            print(\n",
    "                \"   *** The OpenAI API rate limit has been exceeded. Waiting 10 seconds and trying again. ***\"\n",
    "            )\n",
    "            time.sleep(10)  # Wait 10 seconds and try again\n",
    "        except openai.error.Timeout:\n",
    "            print(\n",
    "                \"   *** OpenAI API timeout occurred. Waiting 10 seconds and trying again. ***\"\n",
    "            )\n",
    "            time.sleep(10)  # Wait 10 seconds and try again\n",
    "        except openai.error.APIError:\n",
    "            print(\n",
    "                    \"   *** OpenAI API error occurred. Waiting 10 seconds and trying again. ***\"\n",
    "                )\n",
    "            time.sleep(10)  # Wait 10 seconds and try again\n",
    "        except openai.error.APIConnectionError:\n",
    "            print(\n",
    "                \"   *** OpenAI API connection error occurred. Check your network settings, proxy configuration, SSL certificates, or firewall rules. Waiting 10 seconds and trying again. ***\"\n",
    "            )\n",
    "            time.sleep(10)  # Wait 10 seconds and try again\n",
    "        except openai.error.InvalidRequestError:\n",
    "            print(\n",
    "                \"   *** OpenAI API invalid request. Check the documentation for the specific API method you are calling and make sure you are sending valid and complete parameters. Waiting 10 seconds and trying again. ***\"\n",
    "            )\n",
    "            time.sleep(10)  # Wait 10 seconds and try again\n",
    "        except openai.error.ServiceUnavailableError:\n",
    "            print(\n",
    "                \"   *** OpenAI API service unavailable. Waiting 10 seconds and trying again. ***\"\n",
    "            )\n",
    "            time.sleep(10)  # Wait 10 seconds and try again\n",
    "        else:\n",
    "            print(response.choices[0].text)\n",
    "            return response.choices[0].text \n",
    "            break\n",
    "\n",
    "output = openai_completion(\"tell me a joke on animals\")\n",
    "print(output)\n"
   ]
  },
  {
   "cell_type": "code",
   "execution_count": null,
   "metadata": {},
   "outputs": [
    {
     "name": "stdout",
     "output_type": "stream",
     "text": [
      "c8d8709f79da4c848586bedae594f86e\n",
      "https://rosh-azai.openai.azure.com/openai/deployments/my-davinci-3/completions?api-version=2022-12-01\n",
      "\n",
      "\n",
      "Hello! Welcome to the world!\n"
     ]
    }
   ],
   "source": [
    "# Request URL\n",
    "api_url = f\"{openai_api_base}/openai/deployments/{deployment_name}/completions?api-version={openai_api_version}\"\n",
    "\n",
    "# Example prompt for request payload\n",
    "prompt = \"Hello world\"\n",
    "\n",
    "# Json payload\n",
    "# To know more about the parameters, checkout this documentation: https://learn.microsoft.com/en-us/azure/cognitive-services/openai/reference\n",
    "json_data = {\n",
    "  \"prompt\": prompt,\n",
    "  \"temperature\":0,\n",
    "  \"max_tokens\": 30\n",
    "}\n",
    "\n",
    "# Including the api-key in HTTP headers\n",
    "print (openai_api_key)\n",
    "headers =  {\"api-key\": openai_api_key}\n",
    "print (api_url)\n",
    "try:\n",
    "    # Request for creating a completion for the provided prompt and parameters\n",
    "    response = requests.post(api_url, json=json_data, headers=headers)\n",
    "    completion = response.json()\n",
    "    \n",
    "    # print the completion\n",
    "    print(completion['choices'][0]['text'])\n",
    "    \n",
    "    # Here indicating if the response is filtered\n",
    "    if completion['choices'][0]['finish_reason'] == \"content_filter\":\n",
    "        print(\"The generated content is filtered.\")\n",
    "except:\n",
    "    print(\"An exception has occurred. \\n\")\n",
    "    print(\"Error Message:\", completion['error']['message'])"
   ]
  },
  {
   "attachments": {},
   "cell_type": "markdown",
   "metadata": {},
   "source": []
  },
  {
   "cell_type": "code",
   "execution_count": null,
   "metadata": {},
   "outputs": [
    {
     "name": "stdout",
     "output_type": "stream",
     "text": [
      "{ \"mycustclass\": \"roshnip@microsoft.com\" }\n"
     ]
    }
   ],
   "source": [
    "\n",
    "llm = AzureOpenAI(openai_api_key=openai_api_key, deployment_name=deployment_name, openai_api_version= openai_api_version, model_name=\"text-davinci-003\", openai_api_base=openai_api_base )\n",
    "\n",
    "\n",
    "contents = readSampleDoc()\n",
    "\n",
    "myprompt1 = f\"\"\"\n",
    "identify regex pattern ^\\w+@[a-zA-Z_]+?\\.[a-zA-Z]{2,3}$ in the text and return name value in JSON format with name as mycustclass ?\n",
    "\n",
    "{contents}\n",
    "\"\"\"\n",
    "\n",
    "llm_out1 = llm( myprompt1 )\n",
    "print (llm_out1)"
   ]
  },
  {
   "cell_type": "code",
   "execution_count": null,
   "metadata": {},
   "outputs": [
    {
     "name": "stdout",
     "output_type": "stream",
     "text": [
      "ayK80aR0YZ\n"
     ]
    }
   ],
   "source": [
    "#SQL Query\n",
    "from langchain.agents import create_sql_agent\n",
    "from langchain.agents.agent_toolkits import SQLDatabaseToolkit\n",
    "\n",
    "with open(r'C:\\\\Users\\\\roshnipatil\\\\Documents\\\\GitHub\\\\configdb.json') as config_file:\n",
    "        config_sql_details = json.load(config_file)\n",
    "\n",
    "database_user = config_sql_details[\"DATABASE_USERNAME\"]\n",
    "mydatabase_password = config_sql_details[\"DATABASE_PASSWORD\"]\n",
    "print (mydatabase_password)\n",
    "database_server = config_sql_details[\"DATABASE_SERVER\"]\n",
    "database_db = config_sql_details[\"DATABASE_DB\"]\n"
   ]
  },
  {
   "cell_type": "code",
   "execution_count": null,
   "metadata": {},
   "outputs": [],
   "source": [
    "import pyodbc, struct\n",
    "import pandas as pd\n",
    "from azure import identity\n",
    "\n",
    "from typing import Union\n",
    "from fastapi import FastAPI\n",
    "from pydantic import BaseModel\n",
    "\n",
    "#Silent connect using AD user\n",
    "db_str1 = 'Driver={ODBC Driver 18 for SQL Server};Server=tcp:rosh1dbsrv1.database.windows.net,1433;Database=rosh1db11;Uid='+ database_user+ ';Pwd='+mydatabase_password+';Authentication=ActiveDirectoryPassword; Encrypt=yes;TrustServerCertificate=no;Connection Timeout=30;'\n",
    "#print (db_str1)\n",
    "cnxn = pyodbc.connect(db_str1)\n",
    "\n",
    "\n",
    "#Connect using provided AD user\n",
    "#connection_string='Driver={ODBC Driver 18 for SQL Server};Server=tcp:rosh1dbsrv1.database.windows.net,1433;Database=rosh1db11;Encrypt=yes;TrustServerCertificate=no;Connection Timeout=30'\n",
    "#credential = identity.DefaultAzureCredential(exclude_interactive_browser_credential=False)\n",
    "#token_bytes = credential.get_token(\"https://database.windows.net/.default\").token.encode(\"UTF-16-LE\")\n",
    "#token_struct = struct.pack(f'<I{len(token_bytes)}s', len(token_bytes), token_bytes)\n",
    "#SQL_COPT_SS_ACCESS_TOKEN = 1256  # This connection option is defined by microsoft in msodbcsql.h\n",
    "#cnxn = pyodbc.connect(connection_string, attrs_before={SQL_COPT_SS_ACCESS_TOKEN: token_struct})\n",
    "\n",
    "\n",
    "\n",
    "#cnxn = pyodbc.connect(DRIVER={ODBC Driver 17 for SQL Server}; SERVER=database_server; DATABASE=database_db;ENCRYPT=yes; UID=database_user; PWD=mydatabase_password)\n",
    "#cnxn = pyodbc.connect(\"DRIVER={ODBC Driver 17 for SQL Server};S=tcp:database_server,1433;Uid=database_user;Pwd=database_password;Encrypt=yes;TrustServerCertificate=no;Connection Timeout=30;\")\n",
    "cursor = cnxn.cursor()\n",
    "# select 10 rows from SQL table to insert in dataframe.\n",
    "query = \"select * from [SalesLT].[Address];\"\n",
    "#df = pd.read_sql(query, cnxn)\n",
    "#print(df.head(10))\n",
    "\n",
    "#from langchain.agents import create_pandas_dataframe_agent\n",
    "#agent = create_pandas_dataframe_agent(llm, df, verbose=True)\n",
    "#agent.run(\"how many rows are there?\")\n",
    "\n",
    "cnxn.close()\n",
    "del cnxn"
   ]
  },
  {
   "cell_type": "code",
   "execution_count": null,
   "metadata": {},
   "outputs": [],
   "source": [
    "from langchain.sql_database import SQLDatabase\n",
    "\n",
    "connection_string = f\"mssql+pymssql://{database_user}:{mydatabase_password}@{database_server}:1433/{database_db}/\"\n",
    "print (connection_string)\n",
    "db = SQLDatabase.from_uri(connection_string)"
   ]
  },
  {
   "cell_type": "code",
   "execution_count": null,
   "metadata": {},
   "outputs": [],
   "source": []
  }
 ],
 "metadata": {
  "kernelspec": {
   "display_name": ".venv",
   "language": "python",
   "name": "python3"
  },
  "language_info": {
   "codemirror_mode": {
    "name": "ipython",
    "version": 3
   },
   "file_extension": ".py",
   "mimetype": "text/x-python",
   "name": "python",
   "nbconvert_exporter": "python",
   "pygments_lexer": "ipython3",
   "version": "3.10.10"
  },
  "orig_nbformat": 4
 },
 "nbformat": 4,
 "nbformat_minor": 2
}
