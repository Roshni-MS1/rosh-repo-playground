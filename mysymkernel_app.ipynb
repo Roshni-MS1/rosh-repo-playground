{
 "cells": [
  {
   "attachments": {},
   "cell_type": "markdown",
   "metadata": {},
   "source": []
  },
  {
   "cell_type": "markdown",
   "metadata": {},
   "source": [
    "# LLM Completion Function"
   ]
  },
  {
   "cell_type": "code",
   "execution_count": 2,
   "metadata": {},
   "outputs": [
    {
     "name": "stdout",
     "output_type": "stream",
     "text": [
      "c8d8709f79da4c848586bedae594f86e\n"
     ]
    },
    {
     "name": "stderr",
     "output_type": "stream",
     "text": [
      "c:\\Users\\roshnipatil\\OneDrive - Microsoft\\GitHub_new\\rosh-repo-playground\\.venv\\lib\\site-packages\\requests\\__init__.py:102: RequestsDependencyWarning: urllib3 (1.26.7) or chardet (5.1.0)/charset_normalizer (2.0.7) doesn't match a supported version!\n",
      "  warnings.warn(\"urllib3 ({}) or chardet ({})/charset_normalizer ({}) doesn't match a supported \"\n"
     ]
    }
   ],
   "source": [
    "import os\n",
    "import sys\n",
    "import openai\n",
    "import json\n",
    "import requests\n",
    "import time\n",
    "\n",
    "\n",
    "# Load config value\n",
    "with open(r'C:\\\\Users\\\\roshnipatil\\\\OneDrive - Microsoft\\\\GitHub_new\\\\config.json') as config_file:\n",
    "        config_details = json.load(config_file)\n",
    "\n",
    "# The API key for your Azure OpenAI resource.\n",
    "azure_openai_api_key = config_details['OPENAI_API_KEY']\n",
    "print(azure_openai_api_key)\n",
    "\n",
    "openai.api_type = \"azure\"\n",
    "openai.api_base = \"https://rosh-azai.openai.azure.com/\"\n",
    "openai.api_version = \"2022-12-01\"\n",
    "openai.api_key = azure_openai_api_key\n",
    "\n",
    "\n",
    "# LLMs completion API Call\n",
    "def openai_completion( prompt_input):\n",
    "    while True:\n",
    "        try:\n",
    "            #Azure OpenAI model call \n",
    "            response = openai.Completion.create(\n",
    "                engine=\"my-davinci-3\",\n",
    "                prompt=prompt_input,\n",
    "                temperature=1,\n",
    "                max_tokens=100,\n",
    "                top_p=0.5,\n",
    "                frequency_penalty=0,\n",
    "                presence_penalty=0,\n",
    "                best_of=1,\n",
    "                stop=None)\n",
    "        except openai.error.RateLimitError:\n",
    "            print(\n",
    "                \"   *** The OpenAI API rate limit has been exceeded. Waiting 10 seconds and trying again. ***\"\n",
    "            )\n",
    "            time.sleep(10)  # Wait 10 seconds and try again\n",
    "        except openai.error.Timeout:\n",
    "            print(\n",
    "                \"   *** OpenAI API timeout occurred. Waiting 10 seconds and trying again. ***\"\n",
    "            )\n",
    "            time.sleep(10)  # Wait 10 seconds and try again\n",
    "        except openai.error.APIError:\n",
    "            print(\n",
    "                    \"   *** OpenAI API error occurred. Waiting 10 seconds and trying again. ***\"\n",
    "                )\n",
    "            time.sleep(10)  # Wait 10 seconds and try again\n",
    "        except openai.error.APIConnectionError:\n",
    "            print(\n",
    "                \"   *** OpenAI API connection error occurred. Check your network settings, proxy configuration, SSL certificates, or firewall rules. Waiting 10 seconds and trying again. ***\"\n",
    "            )\n",
    "            time.sleep(10)  # Wait 10 seconds and try again\n",
    "        except openai.error.InvalidRequestError:\n",
    "            print(\n",
    "                \"   *** OpenAI API invalid request. Check the documentation for the specific API method you are calling and make sure you are sending valid and complete parameters. Waiting 10 seconds and trying again. ***\"\n",
    "            )\n",
    "            time.sleep(10)  # Wait 10 seconds and try again\n",
    "        except openai.error.ServiceUnavailableError:\n",
    "            print(\n",
    "                \"   *** OpenAI API service unavailable. Waiting 10 seconds and trying again. ***\"\n",
    "            )\n",
    "            time.sleep(10)  # Wait 10 seconds and try again\n",
    "        else:\n",
    "            return response.choices[0].text \n",
    "            break\n",
    "\n",
    "\n"
   ]
  },
  {
   "cell_type": "code",
   "execution_count": 3,
   "metadata": {},
   "outputs": [
    {
     "name": "stdout",
     "output_type": "stream",
     "text": [
      "\n",
      "\n",
      "Q: What did the fish say when it hit the wall?\n",
      "A: Dam!\n"
     ]
    }
   ],
   "source": [
    "\n",
    "#Call LLM completion function \n",
    "output = openai_completion(\"tell me a joke on animals\")\n",
    "print(output)"
   ]
  },
  {
   "cell_type": "code",
   "execution_count": 4,
   "metadata": {},
   "outputs": [
    {
     "ename": "ModuleNotFoundError",
     "evalue": "No module named 'semantic_kernel'",
     "output_type": "error",
     "traceback": [
      "\u001b[1;31m---------------------------------------------------------------------------\u001b[0m",
      "\u001b[1;31mModuleNotFoundError\u001b[0m                       Traceback (most recent call last)",
      "Cell \u001b[1;32mIn[4], line 1\u001b[0m\n\u001b[1;32m----> 1\u001b[0m \u001b[39mimport\u001b[39;00m \u001b[39msemantic_kernel\u001b[39;00m \u001b[39mas\u001b[39;00m \u001b[39msk\u001b[39;00m\n\u001b[0;32m      2\u001b[0m \u001b[39mfrom\u001b[39;00m \u001b[39msemantic_kernel\u001b[39;00m\u001b[39m.\u001b[39;00m\u001b[39mconnectors\u001b[39;00m\u001b[39m.\u001b[39;00m\u001b[39mai\u001b[39;00m\u001b[39m.\u001b[39;00m\u001b[39mopen_ai\u001b[39;00m \u001b[39mimport\u001b[39;00m OpenAIChatCompletion\n\u001b[0;32m      4\u001b[0m openai\u001b[39m.\u001b[39mapi_key \u001b[39m=\u001b[39m azure_openai_api_key\n",
      "\u001b[1;31mModuleNotFoundError\u001b[0m: No module named 'semantic_kernel'"
     ]
    }
   ],
   "source": [
    "import semantic_kernel as sk\n",
    "from semantic_kernel.connectors.ai.open_ai import OpenAIChatCompletion\n",
    "\n",
    "openai.api_key = azure_openai_api_key\n",
    "\n",
    "kernel = sk.Kernel()\n",
    "\n",
    "\n",
    "org_id=\"org-moywi1cBJA5nauNpO1YDUCuE\"\n",
    "kernel.add_chat_service(\"chat-gpt\", OpenAIChatCompletion(\"gpt-3.5-turbo\", api_key, azure_openai_api_key))"
   ]
  }
 ],
 "metadata": {
  "kernelspec": {
   "display_name": ".venv",
   "language": "python",
   "name": "python3"
  },
  "language_info": {
   "codemirror_mode": {
    "name": "ipython",
    "version": 3
   },
   "file_extension": ".py",
   "mimetype": "text/x-python",
   "name": "python",
   "nbconvert_exporter": "python",
   "pygments_lexer": "ipython3",
   "version": "3.10.10"
  },
  "orig_nbformat": 4
 },
 "nbformat": 4,
 "nbformat_minor": 2
}
